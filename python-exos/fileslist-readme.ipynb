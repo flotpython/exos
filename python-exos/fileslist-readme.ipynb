{
 "cells": [
  {
   "cell_type": "markdown",
   "metadata": {
    "run_control": {
     "frozen": false,
     "read_only": false
    }
   },
   "source": [
    "<div class=\"licence\">\n",
    "<span>Licence CC BY-NC-ND</span>\n",
    "<span>Thierry Parmentelat &amp; Arnaud Legout</span>\n",
    "</div>"
   ]
  },
  {
   "cell_type": "markdown",
   "metadata": {
    "run_control": {
     "frozen": false,
     "read_only": false
    }
   },
   "source": [
    "# La librairie `pathlib`"
   ]
  },
  {
   "cell_type": "code",
   "execution_count": 1,
   "metadata": {},
   "outputs": [],
   "source": [
    "from pathlib import Path"
   ]
  },
  {
   "cell_type": "markdown",
   "metadata": {},
   "source": [
    "## commodité"
   ]
  },
  {
   "cell_type": "code",
   "execution_count": 2,
   "metadata": {
    "run_control": {
     "frozen": false,
     "read_only": false
    }
   },
   "outputs": [
    {
     "name": "stdout",
     "output_type": "stream",
     "text": [
      "The autoreload extension is already loaded. To reload it, use:\n",
      "  %reload_ext autoreload\n"
     ]
    }
   ],
   "source": [
    "# à quoi ça sert ce truc ?\n",
    "\n",
    "# eh bien si par hasard vous changez un module importé\n",
    "# APRÉS l'avoir déjà chargé dans ce notebook\n",
    "# avec cette formule magique le notebook sera capabale\n",
    "# de RECHARGER la nouvelle version\n",
    "# bref c'est plus pratique; mais ce n'est pas obligatoire du tout hein...\n",
    "\n",
    "%load_ext autoreload\n",
    "%autoreload 2"
   ]
  },
  {
   "cell_type": "markdown",
   "metadata": {},
   "source": [
    "## initialisation"
   ]
  },
  {
   "cell_type": "markdown",
   "metadata": {},
   "source": [
    "on va partir d'un dossier avec un peu de contenu; c'est pour simuler par exemple un dossier avec des logs"
   ]
  },
  {
   "cell_type": "code",
   "execution_count": 4,
   "metadata": {},
   "outputs": [],
   "source": [
    "# on nettoie bien tout pour être sûr\n",
    "!rm -rf pathlib-foo"
   ]
  },
  {
   "cell_type": "code",
   "execution_count": 5,
   "metadata": {},
   "outputs": [
    {
     "name": "stdout",
     "output_type": "stream",
     "text": [
      "Wrote file pathlib-foo/logs/dir1/filebxxxxxx - size 12\n",
      "Wrote file pathlib-foo/logs/dir1/filebbxxxxxx - size 13\n",
      "Wrote file pathlib-foo/logs/dir1/filebbbxxxxxx - size 14\n",
      "Wrote file pathlib-foo/logs/dir10/fileaxxxx - size 102\n",
      "Wrote file pathlib-foo/logs/dir10/fileaaxxxx - size 103\n",
      "Wrote file pathlib-foo/logs/dir10/fileaaaxxxx - size 104\n",
      "Wrote file pathlib-foo/logs/dir100/filecxx - size 1002\n",
      "Wrote file pathlib-foo/logs/dir100/fileccxx - size 1003\n",
      "Wrote file pathlib-foo/logs/dir100/filecccxx - size 1004\n"
     ]
    }
   ],
   "source": [
    "from fileslist import init\n",
    "init()"
   ]
  },
  {
   "cell_type": "markdown",
   "metadata": {},
   "source": [
    "## il faut faire quoi ?"
   ]
  },
  {
   "cell_type": "markdown",
   "metadata": {
    "run_control": {
     "frozen": false,
     "read_only": false
    }
   },
   "source": [
    "Il s'agit d'écrire une fonction qui\n",
    "\n",
    "* construit un chemin à partir d'une variable `root` de type `str`  (qui va désigner la racine de tout ceci)\n",
    "  * et dedans on va isoler un dossier particulier (dont le nom est fourni par une variable `course`)\n",
    "  * et dedans on se concentre sur le dossier `logs`\n",
    "\n",
    "* dans ce dossier `logs`, on va chercher tous les fichiers qui sont présents; 2 modes\n",
    "  * `deep=False` : les fichiers présents dans ce dossier exactement\n",
    "  * `deep=True` ou à n'importe quel niveau de profondeur sous ce dossier\n",
    "\n",
    "* puis tous les fichiers trouvés sont triés selon `criteria`\n",
    "  1. `name` soit par le (dernier) nom du fichier\n",
    "  1. `namelen` soit par longueur du (dernier) nom du fichier\n",
    "  1. `size` soit sur la taille du fichier\n"
   ]
  },
  {
   "cell_type": "code",
   "execution_count": 6,
   "metadata": {},
   "outputs": [
    {
     "name": "stdout",
     "output_type": "stream",
     "text": [
      "Help on function sort_files in module fileslist:\n",
      "\n",
      "sort_files(root: pathlib.Path, course: str, deep=False, criteria='name')\n",
      "    sort files under the folder 'root'\n",
      "    \n",
      "    only the subfolder named 'course' is considered,\n",
      "    and under that only the 'logs' folder is taken into account\n",
      "    \n",
      "    Parameters:\n",
      "      root: a Path to the main folder\n",
      "      course: a str that gives the name of the first subfolder\n",
      "      deep: a boolean that says if a recursive search is needed\n",
      "      criteria: a str among 'name', 'namelen', or 'size'\n",
      "\n"
     ]
    }
   ],
   "source": [
    "from fileslist import sort_files\n",
    "help(sort_files)"
   ]
  },
  {
   "cell_type": "markdown",
   "metadata": {
    "run_control": {
     "frozen": false,
     "read_only": false
    }
   },
   "source": [
    "### Exemples"
   ]
  },
  {
   "cell_type": "code",
   "execution_count": 7,
   "metadata": {},
   "outputs": [
    {
     "data": {
      "text/plain": [
       "PosixPath('/Users/tparment/git/flotpython-exos/python-exos')"
      ]
     },
     "execution_count": 7,
     "metadata": {},
     "output_type": "execute_result"
    }
   ],
   "source": [
    "here = Path.cwd()\n",
    "here"
   ]
  },
  {
   "cell_type": "code",
   "execution_count": 8,
   "metadata": {
    "run_control": {
     "frozen": false,
     "read_only": false
    }
   },
   "outputs": [
    {
     "data": {
      "text/plain": [
       "[PosixPath('/Users/tparment/git/flotpython-exos/python-exos/pathlib-foo/logs/dir10/fileaaaxxxx'),\n",
       " PosixPath('/Users/tparment/git/flotpython-exos/python-exos/pathlib-foo/logs/dir10/fileaaxxxx'),\n",
       " PosixPath('/Users/tparment/git/flotpython-exos/python-exos/pathlib-foo/logs/dir10/fileaxxxx'),\n",
       " PosixPath('/Users/tparment/git/flotpython-exos/python-exos/pathlib-foo/logs/dir1/filebbbxxxxxx'),\n",
       " PosixPath('/Users/tparment/git/flotpython-exos/python-exos/pathlib-foo/logs/dir1/filebbxxxxxx'),\n",
       " PosixPath('/Users/tparment/git/flotpython-exos/python-exos/pathlib-foo/logs/dir1/filebxxxxxx'),\n",
       " PosixPath('/Users/tparment/git/flotpython-exos/python-exos/pathlib-foo/logs/dir100/filecccxx'),\n",
       " PosixPath('/Users/tparment/git/flotpython-exos/python-exos/pathlib-foo/logs/dir100/fileccxx'),\n",
       " PosixPath('/Users/tparment/git/flotpython-exos/python-exos/pathlib-foo/logs/dir100/filecxx')]"
      ]
     },
     "execution_count": 8,
     "metadata": {},
     "output_type": "execute_result"
    }
   ],
   "source": [
    "sort_files(here, \"pathlib-foo\", deep=True, criteria='name')"
   ]
  },
  {
   "cell_type": "code",
   "execution_count": 9,
   "metadata": {
    "run_control": {
     "frozen": false,
     "read_only": false
    }
   },
   "outputs": [
    {
     "data": {
      "text/plain": [
       "[PosixPath('/Users/tparment/git/flotpython-exos/python-exos/pathlib-foo/logs/dir100/filecxx'),\n",
       " PosixPath('/Users/tparment/git/flotpython-exos/python-exos/pathlib-foo/logs/dir100/fileccxx'),\n",
       " PosixPath('/Users/tparment/git/flotpython-exos/python-exos/pathlib-foo/logs/dir10/fileaxxxx'),\n",
       " PosixPath('/Users/tparment/git/flotpython-exos/python-exos/pathlib-foo/logs/dir100/filecccxx'),\n",
       " PosixPath('/Users/tparment/git/flotpython-exos/python-exos/pathlib-foo/logs/dir10/fileaaxxxx'),\n",
       " PosixPath('/Users/tparment/git/flotpython-exos/python-exos/pathlib-foo/logs/dir10/fileaaaxxxx'),\n",
       " PosixPath('/Users/tparment/git/flotpython-exos/python-exos/pathlib-foo/logs/dir1/filebxxxxxx'),\n",
       " PosixPath('/Users/tparment/git/flotpython-exos/python-exos/pathlib-foo/logs/dir1/filebbxxxxxx'),\n",
       " PosixPath('/Users/tparment/git/flotpython-exos/python-exos/pathlib-foo/logs/dir1/filebbbxxxxxx')]"
      ]
     },
     "execution_count": 9,
     "metadata": {},
     "output_type": "execute_result"
    }
   ],
   "source": [
    "sort_files(here, \"pathlib-foo\", deep=True, criteria='namelen')"
   ]
  },
  {
   "cell_type": "code",
   "execution_count": 10,
   "metadata": {
    "run_control": {
     "frozen": false,
     "read_only": false
    }
   },
   "outputs": [
    {
     "data": {
      "text/plain": [
       "[PosixPath('/Users/tparment/git/flotpython-exos/python-exos/pathlib-foo/logs/dir1/filebxxxxxx'),\n",
       " PosixPath('/Users/tparment/git/flotpython-exos/python-exos/pathlib-foo/logs/dir1/filebbxxxxxx'),\n",
       " PosixPath('/Users/tparment/git/flotpython-exos/python-exos/pathlib-foo/logs/dir1/filebbbxxxxxx'),\n",
       " PosixPath('/Users/tparment/git/flotpython-exos/python-exos/pathlib-foo/logs/dir10/fileaxxxx'),\n",
       " PosixPath('/Users/tparment/git/flotpython-exos/python-exos/pathlib-foo/logs/dir10/fileaaxxxx'),\n",
       " PosixPath('/Users/tparment/git/flotpython-exos/python-exos/pathlib-foo/logs/dir10/fileaaaxxxx'),\n",
       " PosixPath('/Users/tparment/git/flotpython-exos/python-exos/pathlib-foo/logs/dir100/filecxx'),\n",
       " PosixPath('/Users/tparment/git/flotpython-exos/python-exos/pathlib-foo/logs/dir100/fileccxx'),\n",
       " PosixPath('/Users/tparment/git/flotpython-exos/python-exos/pathlib-foo/logs/dir100/filecccxx')]"
      ]
     },
     "execution_count": 10,
     "metadata": {},
     "output_type": "execute_result"
    }
   ],
   "source": [
    "sort_files(here, \"pathlib-foo\", deep=True, criteria='size')"
   ]
  },
  {
   "cell_type": "markdown",
   "metadata": {
    "run_control": {
     "frozen": false,
     "read_only": false
    }
   },
   "source": [
    "## Indices"
   ]
  },
  {
   "cell_type": "code",
   "execution_count": 11,
   "metadata": {
    "run_control": {
     "frozen": false,
     "read_only": false
    }
   },
   "outputs": [
    {
     "data": {
      "text/plain": [
       "PosixPath('pathlib-foo/logs/dir100/filecxx')"
      ]
     },
     "execution_count": 11,
     "metadata": {},
     "output_type": "execute_result"
    }
   ],
   "source": [
    "from pathlib import Path\n",
    "\n",
    "x = Path(\"pathlib-foo\", \"logs\", \"dir100\", \"filecxx\")\n",
    "x"
   ]
  },
  {
   "cell_type": "code",
   "execution_count": 12,
   "metadata": {
    "run_control": {
     "frozen": false,
     "read_only": false
    }
   },
   "outputs": [
    {
     "data": {
      "text/plain": [
       "['pathlib-foo', 'logs', 'dir100', 'filecxx']"
      ]
     },
     "execution_count": 12,
     "metadata": {},
     "output_type": "execute_result"
    }
   ],
   "source": [
    "list(x.parts)"
   ]
  },
  {
   "cell_type": "code",
   "execution_count": 13,
   "metadata": {
    "run_control": {
     "frozen": false,
     "read_only": false
    }
   },
   "outputs": [
    {
     "data": {
      "text/plain": [
       "1002"
      ]
     },
     "execution_count": 13,
     "metadata": {},
     "output_type": "execute_result"
    }
   ],
   "source": [
    "# pour avoir la taille\n",
    "x.stat().st_size"
   ]
  },
  {
   "cell_type": "code",
   "execution_count": 14,
   "metadata": {
    "run_control": {
     "frozen": false,
     "read_only": false
    }
   },
   "outputs": [
    {
     "data": {
      "text/plain": [
       "[PosixPath('pathlib-foo/logs/dir10'),\n",
       " PosixPath('pathlib-foo/logs/dir1'),\n",
       " PosixPath('pathlib-foo/logs/dir100')]"
      ]
     },
     "execution_count": 14,
     "metadata": {},
     "output_type": "execute_result"
    }
   ],
   "source": [
    "y = Path(\"pathlib-foo\", \"logs\")\n",
    "list(y.glob(\"*\"))"
   ]
  },
  {
   "cell_type": "code",
   "execution_count": 15,
   "metadata": {
    "run_control": {
     "frozen": false,
     "read_only": false
    }
   },
   "outputs": [
    {
     "data": {
      "text/plain": [
       "[PosixPath('pathlib-foo/logs/dir10'),\n",
       " PosixPath('pathlib-foo/logs/dir1'),\n",
       " PosixPath('pathlib-foo/logs/dir100'),\n",
       " PosixPath('pathlib-foo/logs/dir10/fileaxxxx'),\n",
       " PosixPath('pathlib-foo/logs/dir10/fileaaxxxx'),\n",
       " PosixPath('pathlib-foo/logs/dir10/fileaaaxxxx'),\n",
       " PosixPath('pathlib-foo/logs/dir1/filebxxxxxx'),\n",
       " PosixPath('pathlib-foo/logs/dir1/filebbbxxxxxx'),\n",
       " PosixPath('pathlib-foo/logs/dir1/filebbxxxxxx'),\n",
       " PosixPath('pathlib-foo/logs/dir100/filecccxx'),\n",
       " PosixPath('pathlib-foo/logs/dir100/filecxx'),\n",
       " PosixPath('pathlib-foo/logs/dir100/fileccxx')]"
      ]
     },
     "execution_count": 15,
     "metadata": {},
     "output_type": "execute_result"
    }
   ],
   "source": [
    "list(y.glob(\"**/*\"))"
   ]
  },
  {
   "cell_type": "markdown",
   "metadata": {},
   "source": [
    "***"
   ]
  }
 ],
 "metadata": {
  "celltoolbar": "Slideshow",
  "kernelspec": {
   "display_name": "Python 3 (ipykernel)",
   "language": "python",
   "name": "python3"
  },
  "language_info": {
   "codemirror_mode": {
    "name": "ipython",
    "version": 3
   },
   "file_extension": ".py",
   "mimetype": "text/x-python",
   "name": "python",
   "nbconvert_exporter": "python",
   "pygments_lexer": "ipython3",
   "version": "3.9.12"
  },
  "livereveal": {
   "height": 1024,
   "start_slideshow_at": "selected",
   "theme": "simple",
   "transition": "cube",
   "width": 1280
  },
  "notebookname": "scanning a folder",
  "toc": {
   "base_numbering": 1,
   "nav_menu": {
    "height": "66px",
    "width": "252px"
   },
   "number_sections": true,
   "sideBar": true,
   "skip_h1_title": false,
   "title_cell": "Table of Contents",
   "title_sidebar": "Contents",
   "toc_cell": false,
   "toc_position": {},
   "toc_section_display": "block",
   "toc_window_display": false
  },
  "version": "1.0"
 },
 "nbformat": 4,
 "nbformat_minor": 2
}
