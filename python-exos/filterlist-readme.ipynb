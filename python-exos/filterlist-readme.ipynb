{
 "cells": [
  {
   "cell_type": "markdown",
   "metadata": {
    "run_control": {
     "frozen": false,
     "read_only": false
    }
   },
   "source": [
    "<div class=\"licence\">\n",
    "<span>Licence CC BY-NC-ND</span>\n",
    "<span>Thierry Parmentelat &amp; Arnaud Legout</span>\n",
    "</div>"
   ]
  },
  {
   "cell_type": "markdown",
   "metadata": {
    "run_control": {
     "frozen": false,
     "read_only": false
    }
   },
   "source": [
    "# filtrer une liste"
   ]
  },
  {
   "cell_type": "markdown",
   "metadata": {
    "run_control": {
     "frozen": false,
     "read_only": false
    }
   },
   "source": [
    "Il s'agit d'écrire une fonction `all_integers` qui\n",
    "\n",
    "* accepte en entrée un itérable\n",
    "* retourne la liste de tous les entiers trouvés dans l'itérable (on ignore le reste)\n",
    "* bien sûr on les conserve dans l'ordre où on les trouve"
   ]
  },
  {
   "cell_type": "code",
   "execution_count": null,
   "metadata": {
    "run_control": {
     "frozen": false,
     "read_only": false
    }
   },
   "outputs": [],
   "source": [
    "from filterlist import all_integers"
   ]
  },
  {
   "cell_type": "code",
   "execution_count": null,
   "metadata": {
    "run_control": {
     "frozen": false,
     "read_only": false
    }
   },
   "outputs": [],
   "source": [
    "inputs = [\n",
    "    [1, 2, 3, 4, 'spam', 5, 'beans'],\n",
    "    [(1, 2), 3, 4, 'spam', 5, 'beans'],\n",
    "   ]"
   ]
  },
  {
   "cell_type": "code",
   "execution_count": null,
   "metadata": {
    "run_control": {
     "frozen": false,
     "read_only": false
    }
   },
   "outputs": [],
   "source": [
    "# remarquez bien que les objets 'input' ne sont pas modifiés\n",
    "for input in inputs:\n",
    "   print(10*'=')\n",
    "   print(f\"input(avant0) = {input}\")\n",
    "   print(f\"integers = {all_integers(input)}\")\n",
    "   print(f\"input(après) = {input}\")"
   ]
  },
  {
   "cell_type": "markdown",
   "metadata": {
    "run_control": {
     "frozen": false,
     "read_only": false
    }
   },
   "source": [
    "# filtrage par effet de bord"
   ]
  },
  {
   "cell_type": "markdown",
   "metadata": {
    "run_control": {
     "frozen": false,
     "read_only": false
    }
   },
   "source": [
    "Cette fois on veut une fonction `keep_only_integers` qui\n",
    "\n",
    "* accepte en entrée une liste\n",
    "* modifie cette entrée pour ne garder que les éléments de type **`int`**"
   ]
  },
  {
   "cell_type": "code",
   "execution_count": null,
   "metadata": {
    "run_control": {
     "frozen": false,
     "read_only": false
    }
   },
   "outputs": [],
   "source": [
    "from filterlist import keep_only_integers"
   ]
  },
  {
   "cell_type": "code",
   "execution_count": null,
   "metadata": {
    "run_control": {
     "frozen": false,
     "read_only": false
    }
   },
   "outputs": [],
   "source": [
    "for input in inputs:\n",
    "   print(10*'=')\n",
    "   print(f\"input(avant0) = {input}\")\n",
    "   print(f\"integers = {all_integers(input)}\")\n",
    "   print(f\"input(après) = {input}\")\n",
    "   keep_only_integers(input)\n",
    "   print(f\"input(modifié) = {input}\")"
   ]
  },
  {
   "cell_type": "code",
   "execution_count": null,
   "metadata": {
    "run_control": {
     "frozen": false,
     "read_only": false
    }
   },
   "outputs": [],
   "source": [
    "!head -18 filterlist.py"
   ]
  },
  {
   "cell_type": "code",
   "execution_count": null,
   "metadata": {},
   "outputs": [],
   "source": []
  }
 ],
 "metadata": {
  "celltoolbar": "Slideshow",
  "kernelspec": {
   "display_name": "Python 3",
   "language": "python",
   "name": "python3"
  },
  "language_info": {
   "codemirror_mode": {
    "name": "ipython",
    "version": 3
   },
   "file_extension": ".py",
   "mimetype": "text/x-python",
   "name": "python",
   "nbconvert_exporter": "python",
   "pygments_lexer": "ipython3",
   "version": "3.9.12"
  },
  "livereveal": {
   "height": 1024,
   "start_slideshow_at": "selected",
   "theme": "simple",
   "transition": "cube",
   "width": 1280
  },
  "notebookname": "filtrer une liste",
  "toc": {
   "colors": {
    "hover_highlight": "#DAA520",
    "running_highlight": "#FF0000",
    "selected_highlight": "#FFD700"
   },
   "moveMenuLeft": true,
   "nav_menu": {
    "height": "48px",
    "width": "252px"
   },
   "navigate_menu": true,
   "number_sections": true,
   "sideBar": true,
   "threshold": "2",
   "toc_cell": false,
   "toc_section_display": "block",
   "toc_window_display": false,
   "widenNotebook": false
  },
  "version": "1.0"
 },
 "nbformat": 4,
 "nbformat_minor": 2
}
