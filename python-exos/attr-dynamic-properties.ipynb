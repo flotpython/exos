{
 "cells": [
  {
   "cell_type": "markdown",
   "metadata": {
    "deletable": true,
    "editable": true,
    "run_control": {
     "frozen": false,
     "read_only": false
    }
   },
   "source": [
    "<div class=\"licence\">\n",
    "<span>Licence CC BY-NC-ND</span>\n",
    "<span>Thierry Parmentelat &amp; Arnaud Legout</span>\n",
    "</div>"
   ]
  },
  {
   "cell_type": "markdown",
   "metadata": {
    "deletable": true,
    "editable": true,
    "run_control": {
     "frozen": false,
     "read_only": false
    }
   },
   "source": [
    "# Création de propriétés à la volée"
   ]
  },
  {
   "cell_type": "markdown",
   "metadata": {
    "deletable": true,
    "editable": true,
    "run_control": {
     "frozen": false,
     "read_only": false
    }
   },
   "source": [
    "## En s'inspirant du code:"
   ]
  },
  {
   "cell_type": "code",
   "execution_count": null,
   "metadata": {
    "deletable": true,
    "editable": true,
    "run_control": {
     "frozen": false,
     "read_only": false
    }
   },
   "outputs": [],
   "source": [
    "class Person(object):\n",
    "    def __init__(self):\n",
    "        self._name = ''\n",
    "\n",
    "    def fget(self):\n",
    "        print(f\"Getting: {self._name}\")\n",
    "        return self._name\n",
    "\n",
    "    def fset(self, value):\n",
    "        print(f\"Setting: {value}\")\n",
    "        self._name = value.title()\n",
    "\n",
    "    name = property(fget=fget, fset=fset, doc=\"I'm the property.\")"
   ]
  },
  {
   "cell_type": "code",
   "execution_count": null,
   "metadata": {
    "deletable": true,
    "editable": true,
    "run_control": {
     "frozen": false,
     "read_only": false
    }
   },
   "outputs": [],
   "source": [
    "user = Person()\n",
    "user.name = 'john smith'"
   ]
  },
  {
   "cell_type": "code",
   "execution_count": null,
   "metadata": {
    "deletable": true,
    "editable": true,
    "run_control": {
     "frozen": false,
     "read_only": false
    }
   },
   "outputs": [],
   "source": [
    "# remarquez d'ailleurs - sans rapport avec l'exercice\n",
    "# qu'ici on ne spécifie pas de deleter\n",
    "try:\n",
    "    del user.name\n",
    "except AttributeError as e:\n",
    "    print(\"OOPS\", e)"
   ]
  },
  {
   "cell_type": "markdown",
   "metadata": {
    "deletable": true,
    "editable": true,
    "run_control": {
     "frozen": false,
     "read_only": false
    }
   },
   "source": [
    "## Écrivez \n",
    "\n",
    "* une nouvelle version `DynamicPerson` de cette classe \n",
    "* qui ne possède plus les 2 méthodes `fget/fset`\n",
    "* mais en remplacement une méthode `addProperty`\n",
    "  * et autres méthodes privées si nécessaire\n",
    "* de façon à ce qu'on puisse l'utiliser comme ceci"
   ]
  },
  {
   "cell_type": "markdown",
   "metadata": {
    "deletable": true,
    "editable": true,
    "run_control": {
     "frozen": false,
     "read_only": false
    }
   },
   "source": [
    "```\n",
    ">>> user = DynamicPerson()\n",
    ">>> user.addProperty('name')\n",
    ">>> user.addProperty('phone')\n",
    ">>> user.name = 'john smith'\n",
    "Setting: name = john smith\n",
    ">>> user.phone = '12345'\n",
    "Setting: phone = 12345\n",
    ">>> user.name\n",
    "Getting: name\n",
    "'John Smith'\n",
    ">>> user.__dict__\n",
    "{'_phone': '12345', '_name': 'John Smith'}\n",
    "```"
   ]
  },
  {
   "cell_type": "markdown",
   "metadata": {
    "deletable": true,
    "editable": true,
    "run_control": {
     "frozen": false,
     "read_only": false
    }
   },
   "source": [
    "## Hints\n",
    "\n",
    "* pour cet exercice il semble plus naturel \n",
    "  * d'utiliser la *builtin* `property`\n",
    "  * plutôt que la version avec décorateur\n",
    "* remarquez que le récepteur de addProperty\n",
    "  * est l'instance `user` \n",
    "  * et non la classe `Person`"
   ]
  },
  {
   "cell_type": "code",
   "execution_count": null,
   "metadata": {
    "deletable": true,
    "editable": true,
    "run_control": {
     "frozen": false,
     "read_only": false
    }
   },
   "outputs": [],
   "source": [
    "# une façon possible de faire\n",
    "\n",
    "class DynamicPerson(object):\n",
    "\n",
    "    def addProperty(self, attribute):\n",
    "        # avec une clôture on capture attribute\n",
    "        # dans les getter et setter\n",
    "        def setter(self, value):\n",
    "            print(f\"Setting: {attribute} = {value}\")\n",
    "            setattr(self, '_' + attribute, value)\n",
    "        def getter(self):\n",
    "            value = getattr(self, '_' + attribute)\n",
    "            print(f\"Getting: {attribute} = {value}\")\n",
    "            return value\n",
    "        # on attache la property à la classe et pas à l'instance\n",
    "        setattr(self.__class__,\n",
    "                attribute,\n",
    "                # le descriptor fabriqué par property\n",
    "                property(fget=getter,\n",
    "                         fset=setter,\n",
    "                         doc=f\"Auto-generated {attribute} method\"))"
   ]
  },
  {
   "cell_type": "code",
   "execution_count": null,
   "metadata": {
    "deletable": true,
    "editable": true,
    "run_control": {
     "frozen": false,
     "read_only": false
    }
   },
   "outputs": [],
   "source": [
    "user = DynamicPerson()\n",
    "user.addProperty('name')\n",
    "user.addProperty('phone')\n",
    "user.name = 'john smith'\n",
    "user.phone = '12345'\n",
    "user.name\n",
    "user.__dict__"
   ]
  },
  {
   "cell_type": "markdown",
   "metadata": {
    "deletable": true,
    "editable": true,
    "run_control": {
     "frozen": false,
     "read_only": false
    }
   },
   "source": [
    "## Si vous avez fini\n",
    "\n",
    "* ajoutez du code de sorte que\n",
    "  * `addProperty()`\n",
    "  * crée l'attribut à une valeur `None`\n",
    "  * ou encore mieux, à une valeur passée à `addProperty`"
   ]
  }
 ],
 "metadata": {
  "celltoolbar": "Slideshow",
  "kernelspec": {
   "display_name": "Python 3",
   "language": "python",
   "name": "python3"
  },
  "language_info": {
   "codemirror_mode": {
    "name": "ipython",
    "version": 3
   },
   "file_extension": ".py",
   "mimetype": "text/x-python",
   "name": "python",
   "nbconvert_exporter": "python",
   "pygments_lexer": "ipython3",
   "version": "3.5.3"
  },
  "livereveal": {
   "height": 1024,
   "start_slideshow_at": "selected",
   "theme": "simple",
   "transition": "cube",
   "width": 1280
  },
  "notebookname": "Création de propriétés à la volée",
  "toc": {
   "colors": {
    "hover_highlight": "#DAA520",
    "running_highlight": "#FF0000",
    "selected_highlight": "#FFD700"
   },
   "moveMenuLeft": true,
   "nav_menu": {
    "height": "84px",
    "width": "252px"
   },
   "navigate_menu": true,
   "number_sections": true,
   "sideBar": true,
   "threshold": "2",
   "toc_cell": false,
   "toc_section_display": "block",
   "toc_window_display": false,
   "widenNotebook": false
  },
  "version": "1.0"
 },
 "nbformat": 4,
 "nbformat_minor": 2
}
