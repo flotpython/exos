{
 "cells": [
  {
   "cell_type": "markdown",
   "metadata": {
    "deletable": true,
    "editable": true,
    "run_control": {
     "frozen": false,
     "read_only": false
    }
   },
   "source": [
    "<div class=\"licence\">\n",
    "<span>Licence CC BY-NC-ND</span>\n",
    "<span>Thierry Parmentelat &amp; Arnaud Legout</span>\n",
    "</div>"
   ]
  },
  {
   "cell_type": "markdown",
   "metadata": {
    "deletable": true,
    "editable": true,
    "run_control": {
     "frozen": false,
     "read_only": false
    }
   },
   "source": [
    "# Première partie\n",
    "\n",
    "* On vous demande d'écrire une classe `Echo`\n",
    "* qui répond à toutes les méthodes dont le nom  fait 3 lettres\n",
    "* et qui dans ce cas retourne le nom de la méthode concaténé 3 fois"
   ]
  },
  {
   "cell_type": "markdown",
   "metadata": {
    "deletable": true,
    "editable": true,
    "run_control": {
     "frozen": false,
     "read_only": false
    }
   },
   "source": [
    "```\n",
    ">>> echo = Echo()\n",
    ">>> echo.foo()\n",
    "'foofoofoo'\n",
    ">>> echo.bar()\n",
    "'barbarbar'\n",
    ">>> echo.six()\n",
    "'sixsixsix''\n",
    "```"
   ]
  },
  {
   "cell_type": "markdown",
   "metadata": {
    "deletable": true,
    "editable": true,
    "run_control": {
     "frozen": false,
     "read_only": false
    }
   },
   "source": [
    "## Indices\n",
    "\n",
    "* une seule méthode `__getattr__` suffit\n",
    "* elle doit renvoyer une méthode\n",
    "* ou lever l'exception AttributeError"
   ]
  },
  {
   "cell_type": "code",
   "execution_count": null,
   "metadata": {
    "deletable": true,
    "editable": true,
    "run_control": {
     "frozen": false,
     "read_only": false
    },
    "slideshow": {
     "slide_type": "slide"
    }
   },
   "outputs": [],
   "source": [
    "class Echo:\n",
    "    def __getattr__(self, attrname):\n",
    "        if len(attrname) == 3:\n",
    "            # on pourrait écrire tripler()\n",
    "            # mais pour inspecter ce qui nous est vraiment passé\n",
    "            def tripler(*args, **kwds):\n",
    "                # print(\"incoming\", args, kwds)\n",
    "                return attrname * 3\n",
    "            return tripler\n",
    "        else:\n",
    "            raise AttributeError(f\"No such method {attrname} length = {len(attrname)} != 3\")\n"
   ]
  },
  {
   "cell_type": "code",
   "execution_count": null,
   "metadata": {
    "deletable": true,
    "editable": true,
    "run_control": {
     "frozen": false,
     "read_only": false
    },
    "slideshow": {
     "slide_type": "slide"
    }
   },
   "outputs": [],
   "source": [
    "echo = Echo()\n",
    "echo.foo()"
   ]
  },
  {
   "cell_type": "code",
   "execution_count": null,
   "metadata": {
    "deletable": true,
    "editable": true,
    "run_control": {
     "frozen": false,
     "read_only": false
    }
   },
   "outputs": [],
   "source": [
    "echo.bar()"
   ]
  },
  {
   "cell_type": "code",
   "execution_count": null,
   "metadata": {
    "deletable": true,
    "editable": true,
    "run_control": {
     "frozen": false,
     "read_only": false
    }
   },
   "outputs": [],
   "source": [
    "try:\n",
    "    echo.foobar()\n",
    "except AttributeError as e:\n",
    "    print(\"OOPS\", e)"
   ]
  },
  {
   "cell_type": "markdown",
   "metadata": {
    "deletable": true,
    "editable": true,
    "run_control": {
     "frozen": false,
     "read_only": false
    },
    "slideshow": {
     "slide_type": "slide"
    }
   },
   "source": [
    "# Deuxième partie"
   ]
  },
  {
   "cell_type": "markdown",
   "metadata": {
    "deletable": true,
    "editable": true,
    "run_control": {
     "frozen": false,
     "read_only": false
    }
   },
   "source": [
    "* on veut maintenant une classe Proxy\n",
    "* qu'on crée à partir d'une instance de `Echo`\n",
    "* et d'une blacklist (une liste de mots de 3 lettres)\n",
    "* et qui répond là encore à toutes les méthodes\n",
    "* dont le nom fait 3 lettres\n",
    "* en sous-traitant à son instance de `Echo`\n",
    "* sauf pour les méthodes dans la blacklist"
   ]
  },
  {
   "cell_type": "markdown",
   "metadata": {
    "deletable": true,
    "editable": true,
    "run_control": {
     "frozen": false,
     "read_only": false
    }
   },
   "source": [
    "## Indices\n",
    "\n",
    "* très similaire au précédent\n",
    "* attention à bien appeler la méthode de `echo` \n",
    "  * une fois que vous l'avez localisée"
   ]
  },
  {
   "cell_type": "markdown",
   "metadata": {},
   "source": [
    "```\n",
    ">>> blacklist = [ 'six', 'two', 'four']\n",
    ">>> echo2 = BlacklistEcho(blacklist)\n",
    ">>> echo2.foo()\n",
    "'foofoofoo'\n",
    ">>> echo2.six()\n",
    "... raise AttributeError\n",
    "\n",
    "```"
   ]
  },
  {
   "cell_type": "code",
   "execution_count": null,
   "metadata": {
    "deletable": true,
    "editable": true,
    "run_control": {
     "frozen": false,
     "read_only": false
    },
    "slideshow": {
     "slide_type": "slide"
    }
   },
   "outputs": [],
   "source": [
    "class BlacklistEcho(Echo):\n",
    "    def __init__(self, blacklist):\n",
    "        super().__init__()\n",
    "        self.blacklist = blacklist\n",
    "    def __getattr__(self, attrname):\n",
    "        if attrname in self.blacklist:\n",
    "            raise AttributeError(\"blacklisted method {attrname}\")\n",
    "        return super().__getattr__(attrname)\n"
   ]
  },
  {
   "cell_type": "code",
   "execution_count": null,
   "metadata": {
    "deletable": true,
    "editable": true,
    "run_control": {
     "frozen": false,
     "read_only": false
    },
    "slideshow": {
     "slide_type": "slide"
    }
   },
   "outputs": [],
   "source": [
    "blacklist = [ 'six', 'two', 'four']\n",
    "\n",
    "echo2 = BlacklistEcho(blacklist)\n",
    "\n",
    "echo2.foo()"
   ]
  },
  {
   "cell_type": "code",
   "execution_count": null,
   "metadata": {
    "deletable": true,
    "editable": true,
    "run_control": {
     "frozen": false,
     "read_only": false
    }
   },
   "outputs": [],
   "source": [
    "try:\n",
    "    echo2.six()\n",
    "except AttributeError as e:\n",
    "    print(\"OOPS\", e)"
   ]
  },
  {
   "cell_type": "code",
   "execution_count": null,
   "metadata": {
    "deletable": true,
    "editable": true,
    "run_control": {
     "frozen": false,
     "read_only": false
    }
   },
   "outputs": [],
   "source": [
    "try:\n",
    "    echo2.foobar()\n",
    "except AttributeError as e:\n",
    "    print(\"OOPS\", e)"
   ]
  }
 ],
 "metadata": {
  "celltoolbar": "Slideshow",
  "kernelspec": {
   "display_name": "Python 3",
   "language": "python",
   "name": "python3"
  },
  "language_info": {
   "codemirror_mode": {
    "name": "ipython",
    "version": 3
   },
   "file_extension": ".py",
   "mimetype": "text/x-python",
   "name": "python",
   "nbconvert_exporter": "python",
   "pygments_lexer": "ipython3",
   "version": "3.9.12"
  },
  "livereveal": {
   "height": 1024,
   "start_slideshow_at": "selected",
   "theme": "simple",
   "transition": "cube",
   "width": 1280
  },
  "notebookname": "NO HEADING 1 found",
  "toc": {
   "colors": {
    "hover_highlight": "#DAA520",
    "running_highlight": "#FF0000",
    "selected_highlight": "#FFD700"
   },
   "moveMenuLeft": true,
   "nav_menu": {
    "height": "48px",
    "width": "252px"
   },
   "navigate_menu": true,
   "number_sections": true,
   "sideBar": true,
   "threshold": "2",
   "toc_cell": false,
   "toc_section_display": "block",
   "toc_window_display": false,
   "widenNotebook": false
  },
  "version": "1.0"
 },
 "nbformat": 4,
 "nbformat_minor": 2
}
