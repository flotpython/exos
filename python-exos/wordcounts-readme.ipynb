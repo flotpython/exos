{
 "cells": [
  {
   "cell_type": "markdown",
   "metadata": {},
   "source": [
    "# analyse de texte"
   ]
  },
  {
   "cell_type": "markdown",
   "metadata": {},
   "source": [
    "on veut calculer la fréquence d'apparition des mots dans un texte\n",
    "\n",
    "pour cela on vous demande d'écrire une classe qui s'utilise comme ceci  \n",
    "(le fichier texte contient le premier chapitre du *Hitch-Hiker's Guide to the Galaxy* - alias hhgg)"
   ]
  },
  {
   "cell_type": "markdown",
   "metadata": {},
   "source": [
    "```\n",
    "from wordcounts import WordCounts\n",
    "\n",
    "wc = WordCounts(\"wordcounts-data.txt\")\n",
    "\n",
    "print(wc)\n",
    "\n",
    "for word in ['arthur', 'people']:\n",
    "    print(f\"word {word} was found {wc.counter[word]} times\")\n",
    "```"
   ]
  },
  {
   "cell_type": "markdown",
   "metadata": {},
   "source": [
    "et ce code produirait alors ceci\n",
    "\n",
    "```\n",
    "python wordcounts_test.py\n",
    "wordcounts-data.txt: 1612 words 588 different words\n",
    "    the : 65\n",
    "     he : 56\n",
    "      a : 52\n",
    "     to : 52\n",
    "     it : 40\n",
    "word arthur was found 16 times\n",
    "word people was found 9 times\n",
    "```"
   ]
  },
  {
   "cell_type": "markdown",
   "metadata": {},
   "source": [
    "## Indices"
   ]
  },
  {
   "cell_type": "markdown",
   "metadata": {},
   "source": [
    "* il est raisonnable de tout mettre en minuscule une bonne fois au tout début du traitement\n",
    "* voyez `string.punctuation` éventuellement\n",
    "* voyez aussi la classe `collections.Counter` qui va vous rendre la vie bien plus facile\n"
   ]
  },
  {
   "cell_type": "markdown",
   "metadata": {},
   "source": [
    "## variantes"
   ]
  },
  {
   "cell_type": "markdown",
   "metadata": {},
   "source": [
    "* comment trouveriez-vous tous les mots qui apparaissent entre 30 et 40 fois dans le texte ?\n",
    "\n",
    "\n",
    "* si vous vous sentez confortable (il faut faire de la surcharge d'opérateur),\n",
    "  faites en sorte qu'on puisse aussi écrire:\n",
    "  ```\n",
    "  for word in ['arthur', 'people']:\n",
    "      # here we can index the WordCount instance directly\n",
    "      print(f\"word {word} was found {wc[word]} times\")\n",
    "\n",
    "  ```\n"
   ]
  }
 ],
 "metadata": {
  "interpreter": {
   "hash": "2c5acde70743026b7d4bd447c0a76a3953a1c6df92ec79d7095188ce283b4c39"
  },
  "kernelspec": {
   "display_name": "Python 3.9.12 ('flotpython-slides')",
   "language": "python",
   "name": "python3"
  },
  "language_info": {
   "codemirror_mode": {
    "name": "ipython",
    "version": 3
   },
   "file_extension": ".py",
   "mimetype": "text/x-python",
   "name": "python",
   "nbconvert_exporter": "python",
   "pygments_lexer": "ipython3",
   "version": "3.9.12"
  },
  "orig_nbformat": 4
 },
 "nbformat": 4,
 "nbformat_minor": 2
}
