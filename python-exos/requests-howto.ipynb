{
 "cells": [
  {
   "cell_type": "markdown",
   "metadata": {
    "deletable": true,
    "editable": true,
    "run_control": {
     "frozen": false,
     "read_only": false
    }
   },
   "source": [
    "<div class=\"licence\">\n",
    "<span>Licence CC BY-NC-ND</span>\n",
    "<span>Thierry Parmentelat &amp; Arnaud Legout</span>\n",
    "</div>"
   ]
  },
  {
   "cell_type": "markdown",
   "metadata": {
    "deletable": true,
    "editable": true,
    "run_control": {
     "frozen": false,
     "read_only": false
    }
   },
   "source": [
    "# Aller chercher une donnée simple sur Internet"
   ]
  },
  {
   "cell_type": "markdown",
   "metadata": {},
   "source": [
    "## CSV"
   ]
  },
  {
   "cell_type": "markdown",
   "metadata": {
    "deletable": true,
    "editable": true,
    "run_control": {
     "frozen": false,
     "read_only": false
    }
   },
   "source": [
    "Vous trouverez à cette URL un accès aux données de population par pays\n",
    "\n",
    "<https://population.un.org/wpp/Download/Standard/CSV/>\n",
    "\n",
    "et plus spécifiquement, le lien pour downloader la donnée\n",
    "\n",
    "`https://population.un.org/wpp/Download/Files/1_Indicators%20(Standard)/CSV_FILES/WPP2019_TotalPopulationBySex.csv`"
   ]
  },
  {
   "cell_type": "markdown",
   "metadata": {},
   "source": []
  },
  {
   "cell_type": "markdown",
   "metadata": {
    "deletable": true,
    "editable": true,
    "run_control": {
     "frozen": false,
     "read_only": false
    }
   },
   "source": [
    "Il s'agit pour nous d'écrire\n",
    "\n",
    "* un code qui va chercher ces données et les traduit en une structure python (donc dans ce cas précis une simple liste de strings)\n",
    "* avec une autre URL vous pouvez obtenir toutes les populations de toutes les tranches d'âge de la population brésilienne en 2017\n",
    "* ou encore calculer combien de petits brésiliens seront nés entre aujourd'hui et demain"
   ]
  },
  {
   "cell_type": "markdown",
   "metadata": {
    "deletable": true,
    "editable": true,
    "run_control": {
     "frozen": false,
     "read_only": false
    }
   },
   "source": [
    "## Indices"
   ]
  },
  {
   "cell_type": "code",
   "execution_count": null,
   "metadata": {
    "deletable": true,
    "editable": true,
    "run_control": {
     "frozen": false,
     "read_only": false
    }
   },
   "outputs": [],
   "source": [
    "import json\n",
    "\n",
    "# il faut installer requests séparément avec\n",
    "# pip install requests\n",
    "\n",
    "import requests\n"
   ]
  },
  {
   "cell_type": "code",
   "execution_count": null,
   "metadata": {},
   "outputs": [],
   "source": [
    "# ici j'ai fait un 'Copy Link Address' depuis chrome, l'espace s'est fait remplacer par un %20\n",
    "# 20 en hexa = 32 en décimal, c'est le codepoint de Espace\n",
    "URL = \"https://population.un.org/wpp/Download/Files/1_Indicators%20(Standard)/CSV_FILES/WPP2019_TotalPopulationBySex.csv\"\n",
    "\n",
    "# il faut être un peu patient\n",
    "response = requests.get(URL)\n"
   ]
  },
  {
   "cell_type": "code",
   "execution_count": null,
   "metadata": {},
   "outputs": [],
   "source": [
    "# dans ce genre de cas dir() est utile\n",
    "dir(response)"
   ]
  },
  {
   "cell_type": "code",
   "execution_count": null,
   "metadata": {},
   "outputs": [],
   "source": [
    "# mais ça vaut le coup de filter un peu\n",
    "[symbol for symbol in dir(response) if not symbol.startswith('_')]"
   ]
  },
  {
   "cell_type": "code",
   "execution_count": null,
   "metadata": {},
   "outputs": [],
   "source": [
    "\n",
    "# si tout s'est bien passé ici on doit avoir 200\n",
    "# c'est un des codes de retours de HTTP\n",
    "# si c'est par exemple 404 ça signifie que cette URL n'existe plus\n",
    "response.status_code"
   ]
  },
  {
   "cell_type": "code",
   "execution_count": null,
   "metadata": {},
   "outputs": [],
   "source": [
    "# si on était curieux on pourrait aussi faire\n",
    "response.headers"
   ]
  },
  {
   "cell_type": "code",
   "execution_count": null,
   "metadata": {},
   "outputs": [],
   "source": [
    "# pour voir par exemple la taille de notre donnée\n",
    "response.headers['Content-Length']"
   ]
  },
  {
   "cell_type": "code",
   "execution_count": null,
   "metadata": {},
   "outputs": [],
   "source": [
    "# mais bon, bien sûr ce qu'on veut surtout c'est le contenu\n",
    "\n",
    "type(response.text), response.text[:100]"
   ]
  },
  {
   "cell_type": "code",
   "execution_count": null,
   "metadata": {},
   "outputs": [],
   "source": [
    "# il semble donc qu'on ait affaire à un csv classique\n",
    "# qu'on peut décortiquer avec object csv.reader\n",
    "# https://docs.python.org/3/library/csv.html\n",
    "\n",
    "import csv\n",
    "\n",
    "# mais pour ça il nous faut un objet de type fichier (file-like object)\n",
    "# et c'est là que StringIO est super pratique\n",
    "\n",
    "from io import StringIO\n",
    "\n",
    "with (StringIO(response.text)) as file_like:\n",
    "    reader = csv.reader(file_like, delimiter=',')\n",
    "    # on regarde juste les 3 premiers enregistrements\n",
    "    for i, row in enumerate(reader, 1):\n",
    "        print(i, row)\n",
    "        if i >= 3:\n",
    "            break\n"
   ]
  },
  {
   "cell_type": "markdown",
   "metadata": {},
   "source": [
    "À ce stade, on voit comment on peut transformer nos données en listes Python;\n",
    "mais on va s'arrêter là, parce qu'en pratique ça c'est vraiment un exercice qu'on ferait en pandas...\n"
   ]
  },
  {
   "cell_type": "markdown",
   "metadata": {},
   "source": [
    "## JSON"
   ]
  },
  {
   "cell_type": "markdown",
   "metadata": {},
   "source": [
    "même exercice mais cette fois on cherche du JSON; je tombe en premier sur ceci\n",
    "\n",
    "<https://github.com/samayo/country-json/blob/master/src/country-by-population.json>\n",
    "\n",
    "pour trouver le bon lien, je clique sur 'Raw' et je copie ici"
   ]
  },
  {
   "cell_type": "code",
   "execution_count": null,
   "metadata": {},
   "outputs": [],
   "source": [
    "URL = \"https://raw.githubusercontent.com/samayo/country-json/master/src/country-by-population.json\""
   ]
  },
  {
   "cell_type": "code",
   "execution_count": null,
   "metadata": {
    "deletable": true,
    "editable": true,
    "run_control": {
     "frozen": false,
     "read_only": false
    }
   },
   "outputs": [],
   "source": [
    "def get_url_as_json(url):\n",
    "    \"\"\"\n",
    "    Fetch a URL and decode its result as JSON\n",
    "    \"\"\"\n",
    "\n",
    "    with requests.get(url) as response:\n",
    "        return json.loads(response.text)"
   ]
  },
  {
   "cell_type": "code",
   "execution_count": null,
   "metadata": {},
   "outputs": [],
   "source": [
    "python_friendly = get_url_as_json(URL)\n",
    "\n",
    "type(python_friendly)"
   ]
  },
  {
   "cell_type": "code",
   "execution_count": null,
   "metadata": {},
   "outputs": [],
   "source": [
    "python_friendly[:3]"
   ]
  },
  {
   "cell_type": "code",
   "execution_count": null,
   "metadata": {},
   "outputs": [],
   "source": [
    "# et ici par exemple je pourrais décider que c'est plus pratique\n",
    "# sous la forme d'un dictionnaire name -> population\n",
    "\n",
    "population = {d['country']: d['population'] for d in python_friendly}\n"
   ]
  },
  {
   "cell_type": "code",
   "execution_count": null,
   "metadata": {},
   "outputs": [],
   "source": [
    "# de sorte que je peux faire simplement\n",
    "population['France']"
   ]
  }
 ],
 "metadata": {
  "celltoolbar": "Slideshow",
  "kernelspec": {
   "display_name": "Python 3",
   "language": "python",
   "name": "python3"
  },
  "language_info": {
   "codemirror_mode": {
    "name": "ipython",
    "version": 3
   },
   "file_extension": ".py",
   "mimetype": "text/x-python",
   "name": "python",
   "nbconvert_exporter": "python",
   "pygments_lexer": "ipython3",
   "version": "3.9.12"
  },
  "livereveal": {
   "height": 1024,
   "start_slideshow_at": "selected",
   "theme": "simple",
   "transition": "cube",
   "width": 1280
  },
  "notebookname": "NO HEADING 1 found",
  "toc": {
   "colors": {
    "hover_highlight": "#DAA520",
    "running_highlight": "#FF0000",
    "selected_highlight": "#FFD700"
   },
   "moveMenuLeft": true,
   "nav_menu": {
    "height": "12px",
    "width": "252px"
   },
   "navigate_menu": true,
   "number_sections": true,
   "sideBar": true,
   "threshold": "2",
   "toc_cell": false,
   "toc_section_display": "block",
   "toc_window_display": false,
   "widenNotebook": false
  },
  "version": "1.0"
 },
 "nbformat": 4,
 "nbformat_minor": 2
}
