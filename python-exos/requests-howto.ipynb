{
 "cells": [
  {
   "cell_type": "markdown",
   "metadata": {
    "run_control": {
     "frozen": false,
     "read_only": false
    }
   },
   "source": [
    "<div class=\"licence\">\n",
    "<span>Licence CC BY-NC-ND</span>\n",
    "<span>Thierry Parmentelat &amp; Arnaud Legout</span>\n",
    "</div>"
   ]
  },
  {
   "cell_type": "markdown",
   "metadata": {
    "run_control": {
     "frozen": false,
     "read_only": false
    }
   },
   "source": [
    "# Aller chercher une donnée simple sur Internet"
   ]
  },
  {
   "cell_type": "markdown",
   "metadata": {},
   "source": [
    "## CSV"
   ]
  },
  {
   "cell_type": "markdown",
   "metadata": {
    "run_control": {
     "frozen": false,
     "read_only": false
    }
   },
   "source": [
    "Vous trouverez à cette URL un accès aux données de population par pays\n",
    "\n",
    "<https://population.un.org/wpp/Download/Standard/CSV/>\n",
    "\n",
    "et plus spécifiquement, le lien pour downloader la donnée\n",
    "\n",
    "`https://population.un.org/wpp/Download/Files/1_Indicators%20(Standard)/CSV_FILES/WPP2019_TotalPopulationBySex.csv`"
   ]
  },
  {
   "cell_type": "markdown",
   "metadata": {
    "run_control": {
     "frozen": false,
     "read_only": false
    }
   },
   "source": [
    "Il s'agit pour nous d'écrire\n",
    "\n",
    "* un code qui va chercher ces données et les traduit en une structure python (donc dans ce cas précis une simple liste de strings)\n",
    "* avec une autre URL vous pouvez obtenir toutes les populations de toutes les tranches d'âge de la population brésilienne en 2017\n",
    "* ou encore calculer combien de petits brésiliens seront nés entre aujourd'hui et demain"
   ]
  },
  {
   "cell_type": "markdown",
   "metadata": {
    "run_control": {
     "frozen": false,
     "read_only": false
    }
   },
   "source": [
    "## Indices"
   ]
  },
  {
   "cell_type": "code",
   "execution_count": 1,
   "metadata": {
    "run_control": {
     "frozen": false,
     "read_only": false
    }
   },
   "outputs": [],
   "source": [
    "import json\n",
    "\n",
    "# il faut installer requests séparément avec\n",
    "# pip install requests\n",
    "\n",
    "import requests\n"
   ]
  },
  {
   "cell_type": "code",
   "execution_count": 5,
   "metadata": {},
   "outputs": [],
   "source": [
    "# ici j'ai fait un 'Copy Link Address' depuis chrome, l'espace s'est fait remplacer par un %20\n",
    "# 20 en hexa = 32 en décimal, c'est le codepoint de Espace\n",
    "URL = \"https://population.un.org/wpp/Download/Files/1_Indicators%20(Standard)/CSV_FILES/WPP2019_TotalPopulationBySex.csv\"\n",
    "\n",
    "# il faut être un peu patient\n",
    "response = requests.get(URL)\n"
   ]
  },
  {
   "cell_type": "code",
   "execution_count": 6,
   "metadata": {},
   "outputs": [
    {
     "data": {
      "text/plain": [
       "['__attrs__',\n",
       " '__bool__',\n",
       " '__class__',\n",
       " '__delattr__',\n",
       " '__dict__',\n",
       " '__dir__',\n",
       " '__doc__',\n",
       " '__enter__',\n",
       " '__eq__',\n",
       " '__exit__',\n",
       " '__format__',\n",
       " '__ge__',\n",
       " '__getattribute__',\n",
       " '__getstate__',\n",
       " '__gt__',\n",
       " '__hash__',\n",
       " '__init__',\n",
       " '__init_subclass__',\n",
       " '__iter__',\n",
       " '__le__',\n",
       " '__lt__',\n",
       " '__module__',\n",
       " '__ne__',\n",
       " '__new__',\n",
       " '__nonzero__',\n",
       " '__reduce__',\n",
       " '__reduce_ex__',\n",
       " '__repr__',\n",
       " '__setattr__',\n",
       " '__setstate__',\n",
       " '__sizeof__',\n",
       " '__str__',\n",
       " '__subclasshook__',\n",
       " '__weakref__',\n",
       " '_content',\n",
       " '_content_consumed',\n",
       " '_next',\n",
       " 'apparent_encoding',\n",
       " 'close',\n",
       " 'connection',\n",
       " 'content',\n",
       " 'cookies',\n",
       " 'elapsed',\n",
       " 'encoding',\n",
       " 'headers',\n",
       " 'history',\n",
       " 'is_permanent_redirect',\n",
       " 'is_redirect',\n",
       " 'iter_content',\n",
       " 'iter_lines',\n",
       " 'json',\n",
       " 'links',\n",
       " 'next',\n",
       " 'ok',\n",
       " 'raise_for_status',\n",
       " 'raw',\n",
       " 'reason',\n",
       " 'request',\n",
       " 'status_code',\n",
       " 'text',\n",
       " 'url']"
      ]
     },
     "execution_count": 6,
     "metadata": {},
     "output_type": "execute_result"
    }
   ],
   "source": [
    "# dans ce genre de cas dir() est utile\n",
    "# sauf que c'est un peu trop bavard\n",
    "dir(response)"
   ]
  },
  {
   "cell_type": "code",
   "execution_count": 7,
   "metadata": {},
   "outputs": [
    {
     "data": {
      "text/plain": [
       "['apparent_encoding',\n",
       " 'close',\n",
       " 'connection',\n",
       " 'content',\n",
       " 'cookies',\n",
       " 'elapsed',\n",
       " 'encoding',\n",
       " 'headers',\n",
       " 'history',\n",
       " 'is_permanent_redirect',\n",
       " 'is_redirect',\n",
       " 'iter_content',\n",
       " 'iter_lines',\n",
       " 'json',\n",
       " 'links',\n",
       " 'next',\n",
       " 'ok',\n",
       " 'raise_for_status',\n",
       " 'raw',\n",
       " 'reason',\n",
       " 'request',\n",
       " 'status_code',\n",
       " 'text',\n",
       " 'url']"
      ]
     },
     "execution_count": 7,
     "metadata": {},
     "output_type": "execute_result"
    }
   ],
   "source": [
    "# mais ça vaut le coup de filter un peu\n",
    "[symbol for symbol in dir(response) if not symbol.startswith('_')]"
   ]
  },
  {
   "cell_type": "code",
   "execution_count": 8,
   "metadata": {},
   "outputs": [
    {
     "data": {
      "text/plain": [
       "200"
      ]
     },
     "execution_count": 8,
     "metadata": {},
     "output_type": "execute_result"
    }
   ],
   "source": [
    "\n",
    "# si tout s'est bien passé ici on doit avoir 200\n",
    "# c'est un des codes de retours de HTTP\n",
    "# si c'est par exemple 404 ça signifie que cette URL n'existe plus\n",
    "response.status_code"
   ]
  },
  {
   "cell_type": "code",
   "execution_count": 9,
   "metadata": {},
   "outputs": [
    {
     "data": {
      "text/plain": [
       "{'Cache-Control': 'max-age=43200', 'Content-Type': 'application/octet-stream', 'Last-Modified': 'Fri, 06 Mar 2020 20:55:00 GMT', 'Accept-Ranges': 'bytes', 'ETag': '\"0ea2a80f9f3d51:0\"', 'Server': '', 'Strict-Transport-Security': 'max-age=31536000; includeSubDomains, max-age=31536000; includeSubDomains', 'X-Frame-Options': 'SAMEORIGIN', 'X-Xss-Protection': '1; mode=block', 'X-Content-Type-Options': 'nosniff', 'Date': 'Wed, 11 May 2022 21:11:53 GMT', 'Content-Length': '22383021'}"
      ]
     },
     "execution_count": 9,
     "metadata": {},
     "output_type": "execute_result"
    }
   ],
   "source": [
    "# si on était curieux on pourrait aussi faire\n",
    "response.headers"
   ]
  },
  {
   "cell_type": "code",
   "execution_count": 10,
   "metadata": {},
   "outputs": [
    {
     "data": {
      "text/plain": [
       "'22383021'"
      ]
     },
     "execution_count": 10,
     "metadata": {},
     "output_type": "execute_result"
    }
   ],
   "source": [
    "# pour voir par exemple la taille de notre donnée\n",
    "response.headers['Content-Length']"
   ]
  },
  {
   "cell_type": "code",
   "execution_count": 11,
   "metadata": {},
   "outputs": [
    {
     "data": {
      "text/plain": [
       "(str,\n",
       " 'LocID,Location,VarID,Variant,Time,MidPeriod,PopMale,PopFemale,PopTotal,PopDensity\\r\\n4,Afghanistan,2,M')"
      ]
     },
     "execution_count": 11,
     "metadata": {},
     "output_type": "execute_result"
    }
   ],
   "source": [
    "# mais bon, bien sûr ce qu'on veut surtout c'est le contenu\n",
    "\n",
    "type(response.text), response.text[:100]"
   ]
  },
  {
   "cell_type": "code",
   "execution_count": 12,
   "metadata": {},
   "outputs": [
    {
     "name": "stdout",
     "output_type": "stream",
     "text": [
      "1 ['LocID', 'Location', 'VarID', 'Variant', 'Time', 'MidPeriod', 'PopMale', 'PopFemale', 'PopTotal', 'PopDensity']\n",
      "2 ['4', 'Afghanistan', '2', 'Medium', '1950', '1950.5', '4099.243', '3652.874', '7752.117', '11.874']\n",
      "3 ['4', 'Afghanistan', '2', 'Medium', '1951', '1951.5', '4134.756', '3705.395', '7840.151', '12.009']\n"
     ]
    }
   ],
   "source": [
    "# il semble donc qu'on ait affaire à un csv classique\n",
    "# qu'on peut décortiquer avec object csv.reader\n",
    "# https://docs.python.org/3/library/csv.html\n",
    "\n",
    "import csv\n",
    "\n",
    "# mais pour ça il nous faut un objet de type fichier (file-like object)\n",
    "# et c'est là que StringIO est super pratique\n",
    "\n",
    "from io import StringIO\n",
    "\n",
    "with (StringIO(response.text)) as file_like:\n",
    "    reader = csv.reader(file_like, delimiter=',')\n",
    "    # on regarde juste les 3 premiers enregistrements\n",
    "    for i, row in enumerate(reader, 1):\n",
    "        print(i, row)\n",
    "        if i >= 3:\n",
    "            break\n"
   ]
  },
  {
   "cell_type": "markdown",
   "metadata": {},
   "source": [
    "À ce stade, on voit comment on peut transformer nos données en listes Python;\n",
    "mais on va s'arrêter là, parce qu'en pratique ça c'est vraiment un exercice qu'on ferait en pandas...\n"
   ]
  },
  {
   "cell_type": "markdown",
   "metadata": {},
   "source": [
    "## JSON"
   ]
  },
  {
   "cell_type": "markdown",
   "metadata": {},
   "source": [
    "même exercice mais cette fois on cherche du JSON; je tombe en premier sur ceci\n",
    "\n",
    "<https://github.com/samayo/country-json/blob/master/src/country-by-population.json>\n",
    "\n",
    "pour trouver le bon lien, je clique sur 'Raw' et je copie ici"
   ]
  },
  {
   "cell_type": "code",
   "execution_count": 13,
   "metadata": {},
   "outputs": [],
   "source": [
    "URL = \"https://raw.githubusercontent.com/samayo/country-json/master/src/country-by-population.json\""
   ]
  },
  {
   "cell_type": "code",
   "execution_count": 14,
   "metadata": {
    "run_control": {
     "frozen": false,
     "read_only": false
    }
   },
   "outputs": [],
   "source": [
    "def get_url_as_json(url):\n",
    "    \"\"\"\n",
    "    Fetch a URL and decode its result as JSON\n",
    "    \"\"\"\n",
    "\n",
    "    with requests.get(url) as response:\n",
    "        return json.loads(response.text)"
   ]
  },
  {
   "cell_type": "code",
   "execution_count": 15,
   "metadata": {},
   "outputs": [
    {
     "data": {
      "text/plain": [
       "list"
      ]
     },
     "execution_count": 15,
     "metadata": {},
     "output_type": "execute_result"
    }
   ],
   "source": [
    "python_friendly = get_url_as_json(URL)\n",
    "\n",
    "type(python_friendly)"
   ]
  },
  {
   "cell_type": "code",
   "execution_count": 16,
   "metadata": {},
   "outputs": [
    {
     "data": {
      "text/plain": [
       "[{'country': 'Afghanistan', 'population': 37172386},\n",
       " {'country': 'Albania', 'population': 2866376},\n",
       " {'country': 'Algeria', 'population': 42228429}]"
      ]
     },
     "execution_count": 16,
     "metadata": {},
     "output_type": "execute_result"
    }
   ],
   "source": [
    "python_friendly[:3]"
   ]
  },
  {
   "cell_type": "code",
   "execution_count": 17,
   "metadata": {},
   "outputs": [],
   "source": [
    "# et ici par exemple je pourrais décider que c'est plus pratique\n",
    "# sous la forme d'un dictionnaire name -> population\n",
    "\n",
    "population = {d['country']: d['population'] for d in python_friendly}\n"
   ]
  },
  {
   "cell_type": "code",
   "execution_count": 18,
   "metadata": {},
   "outputs": [
    {
     "data": {
      "text/plain": [
       "66977107"
      ]
     },
     "execution_count": 18,
     "metadata": {},
     "output_type": "execute_result"
    }
   ],
   "source": [
    "# de sorte que je peux faire simplement\n",
    "population['France']"
   ]
  },
  {
   "cell_type": "code",
   "execution_count": 19,
   "metadata": {},
   "outputs": [
    {
     "data": {
      "text/plain": [
       "{'Afghanistan': 37172386,\n",
       " 'Albania': 2866376,\n",
       " 'Algeria': 42228429,\n",
       " 'American Samoa': 55465,\n",
       " 'Andorra': 77006,\n",
       " 'Angola': 30809762,\n",
       " 'Anguilla': 15094,\n",
       " 'Antarctica': 1106,\n",
       " 'Antigua and Barbuda': 96286,\n",
       " 'Argentina': 44494502,\n",
       " 'Armenia': 2951776,\n",
       " 'Aruba': 105845,\n",
       " 'Australia': 24982688,\n",
       " 'Austria': 8840521,\n",
       " 'Azerbaijan': 9939800,\n",
       " 'Bahamas': 385640,\n",
       " 'Bahrain': 1569439,\n",
       " 'Bangladesh': 161356039,\n",
       " 'Barbados': 286641,\n",
       " 'Belarus': 9483499,\n",
       " 'Belgium': 11433256,\n",
       " 'Belize': 383071,\n",
       " 'Benin': 11485048,\n",
       " 'Bermuda': 63973,\n",
       " 'Bhutan': 754394,\n",
       " 'Bolivia': 11353142,\n",
       " 'Bosnia and Herzegovina': 3323929,\n",
       " 'Botswana': 2254126,\n",
       " 'Bouvet Island': 0,\n",
       " 'Brazil': 209469333,\n",
       " 'British Indian Ocean Territory': 0,\n",
       " 'Brunei': 428962,\n",
       " 'Bulgaria': 7025037,\n",
       " 'Burkina Faso': 19751535,\n",
       " 'Burundi': 11175378,\n",
       " 'Cambodia': 16249798,\n",
       " 'Cameroon': 25216237,\n",
       " 'Canada': 37057765,\n",
       " 'Cape Verde': 543767,\n",
       " 'Cayman Islands': 64174,\n",
       " 'Central African Republic': 4666377,\n",
       " 'Chad': 15477751,\n",
       " 'Chile': 18729160,\n",
       " 'China': 1392730000,\n",
       " 'Christmas Island': 1402,\n",
       " 'Cocos (Keeling) Islands': 596,\n",
       " 'Colombia': 49648685,\n",
       " 'Comoros': 832322,\n",
       " 'Congo': 5244363,\n",
       " 'Cook Islands': 17379,\n",
       " 'Costa Rica': 4999441,\n",
       " 'Croatia': 4087843,\n",
       " 'Cuba': 11338138,\n",
       " 'Cyprus': 1189265,\n",
       " 'Czech Republic': 10629928,\n",
       " 'Denmark': 5793636,\n",
       " 'Djibouti': 958920,\n",
       " 'Dominica': 71625,\n",
       " 'Dominican Republic': 10627165,\n",
       " 'East Timor': 1267972,\n",
       " 'Ecuador': 17084357,\n",
       " 'Egypt': 98423595,\n",
       " 'El Salvador': 6420744,\n",
       " 'England': 55619400,\n",
       " 'Equatorial Guinea': 1308974,\n",
       " 'Eritrea': 6213972,\n",
       " 'Estonia': 1321977,\n",
       " 'Ethiopia': 109224559,\n",
       " 'Falkland Islands': 2840,\n",
       " 'Faroe Islands': 48497,\n",
       " 'Fiji Islands': 883483,\n",
       " 'Finland': 5515525,\n",
       " 'France': 66977107,\n",
       " 'French Guiana': 290691,\n",
       " 'French Polynesia': 277679,\n",
       " 'French Southern territories': 0,\n",
       " 'Gabon': 2119275,\n",
       " 'Gambia': 2280102,\n",
       " 'Georgia': 3726549,\n",
       " 'Germany': 82905782,\n",
       " 'Ghana': 29767108,\n",
       " 'Gibraltar': 33718,\n",
       " 'Greece': 10731726,\n",
       " 'Greenland': 56025,\n",
       " 'Grenada': 111454,\n",
       " 'Guadeloupe': 395700,\n",
       " 'Guam': 165768,\n",
       " 'Guatemala': 17247807,\n",
       " 'Guinea': 12414318,\n",
       " 'Guinea-Bissau': 1874309,\n",
       " 'Guyana': 779004,\n",
       " 'Haiti': 11123176,\n",
       " 'Heard Island and McDonald Islands': 0,\n",
       " 'Holy See (Vatican City State)': 825,\n",
       " 'Honduras': 9587522,\n",
       " 'Hong Kong': 7451000,\n",
       " 'Hungary': 9775564,\n",
       " 'Iceland': 352721,\n",
       " 'India': 1352617328,\n",
       " 'Indonesia': 267663435,\n",
       " 'Iran': 81800269,\n",
       " 'Iraq': 38433600,\n",
       " 'Ireland': 4867309,\n",
       " 'Israel': 8882800,\n",
       " 'Italy': 60421760,\n",
       " 'Ivory Coast': 25069229,\n",
       " 'Jamaica': 2934855,\n",
       " 'Japan': 126529100,\n",
       " 'Jordan': 9956011,\n",
       " 'Kazakhstan': 18272430,\n",
       " 'Kenya': 51393010,\n",
       " 'Kiribati': 115847,\n",
       " 'Kuwait': 4137309,\n",
       " 'Kyrgyzstan': 6322800,\n",
       " 'Laos': 7061507,\n",
       " 'Latvia': 1927174,\n",
       " 'Lebanon': 6848925,\n",
       " 'Lesotho': 2108132,\n",
       " 'Liberia': 4818977,\n",
       " 'Libyan Arab Jamahiriya': 6678567,\n",
       " 'Liechtenstein': 37910,\n",
       " 'Lithuania': 2801543,\n",
       " 'Luxembourg': 607950,\n",
       " 'Macao': 631636,\n",
       " 'North Macedonia': 2084367,\n",
       " 'Madagascar': 26262368,\n",
       " 'Malawi': 18143315,\n",
       " 'Malaysia': 31528585,\n",
       " 'Maldives': 515696,\n",
       " 'Mali': 19077690,\n",
       " 'Malta': 484630,\n",
       " 'Marshall Islands': 58413,\n",
       " 'Martinique': 376480,\n",
       " 'Mauritania': 4403319,\n",
       " 'Mauritius': 1265303,\n",
       " 'Mayotte': 270372,\n",
       " 'Mexico': 126190788,\n",
       " 'Micronesia, Federated States of': 112640,\n",
       " 'Moldova': 2706049,\n",
       " 'Monaco': 38682,\n",
       " 'Mongolia': 3170208,\n",
       " 'Montenegro': 631219,\n",
       " 'Montserrat': 5900,\n",
       " 'Morocco': 36029138,\n",
       " 'Mozambique': 29495962,\n",
       " 'Myanmar': 53708395,\n",
       " 'Namibia': 2448255,\n",
       " 'Nauru': 12704,\n",
       " 'Nepal': 28087871,\n",
       " 'Netherlands': 17231624,\n",
       " 'Netherlands Antilles': 227049,\n",
       " 'New Caledonia': 284060,\n",
       " 'New Zealand': 4841000,\n",
       " 'Nicaragua': 6465513,\n",
       " 'Niger': 22442948,\n",
       " 'Nigeria': 195874740,\n",
       " 'Niue': 1624,\n",
       " 'Norfolk Island': 2169,\n",
       " 'North Korea': 25549819,\n",
       " 'Northern Ireland': 1885400,\n",
       " 'Northern Mariana Islands': 56882,\n",
       " 'Norway': 5311916,\n",
       " 'Oman': 4829483,\n",
       " 'Pakistan': 212215030,\n",
       " 'Palau': 17907,\n",
       " 'Palestine': 4569087,\n",
       " 'Panama': 4176873,\n",
       " 'Papua New Guinea': 8606316,\n",
       " 'Paraguay': 6956071,\n",
       " 'Peru': 31989256,\n",
       " 'Philippines': 106651922,\n",
       " 'Pitcairn': 67,\n",
       " 'Poland': 37974750,\n",
       " 'Portugal': 10283822,\n",
       " 'Puerto Rico': 3195153,\n",
       " 'Qatar': 2781677,\n",
       " 'Reunion': 859959,\n",
       " 'Romania': 19466145,\n",
       " 'Russian Federation': 144478050,\n",
       " 'Rwanda': 12301939,\n",
       " 'Saint Helena': 6600,\n",
       " 'Saint Kitts and Nevis': 52441,\n",
       " 'Saint Lucia': 181889,\n",
       " 'Saint Pierre and Miquelon': 5888,\n",
       " 'Saint Vincent and the Grenadines': 110210,\n",
       " 'Samoa': 196130,\n",
       " 'San Marino': 33785,\n",
       " 'Sao Tome and Principe': 211028,\n",
       " 'Saudi Arabia': 33699947,\n",
       " 'Scotland': 5424800,\n",
       " 'Senegal': 15854360,\n",
       " 'Serbia': 6963764,\n",
       " 'Seychelles': 96762,\n",
       " 'Sierra Leone': 7650154,\n",
       " 'Singapore': 5638676,\n",
       " 'Slovakia': 5446771,\n",
       " 'Slovenia': 2073894,\n",
       " 'Solomon Islands': 652858,\n",
       " 'Somalia': 15008154,\n",
       " 'South Africa': 57779622,\n",
       " 'South Georgia and the South Sandwich Islands': 30,\n",
       " 'South Korea': 51606633,\n",
       " 'South Sudan': 10975920,\n",
       " 'Spain': 46796540,\n",
       " 'Sri Lanka': 21670000,\n",
       " 'Sudan': 41801533,\n",
       " 'Suriname': 575991,\n",
       " 'Svalbard and Jan Mayen': 2572,\n",
       " 'Swaziland': 1136191,\n",
       " 'Sweden': 10175214,\n",
       " 'Switzerland': 8513227,\n",
       " 'Syria': 16906283,\n",
       " 'Tajikistan': 9100837,\n",
       " 'Tanzania': 56318348,\n",
       " 'Thailand': 69428524,\n",
       " 'The Democratic Republic of Congo': 84068091,\n",
       " 'Togo': 7889094,\n",
       " 'Tokelau': 1411,\n",
       " 'Tonga': 103197,\n",
       " 'Trinidad and Tobago': 1389858,\n",
       " 'Tunisia': 11565204,\n",
       " 'Turkey': 82319724,\n",
       " 'Turkmenistan': 5850908,\n",
       " 'Turks and Caicos Islands': 37665,\n",
       " 'Tuvalu': 11508,\n",
       " 'Uganda': 42723139,\n",
       " 'Ukraine': 44622516,\n",
       " 'United Arab Emirates': 9630959,\n",
       " 'United Kingdom': 66460344,\n",
       " 'United States': 326687501,\n",
       " 'United States Minor Outlying Islands': 300,\n",
       " 'Uruguay': 3449299,\n",
       " 'Uzbekistan': 32955400,\n",
       " 'Vanuatu': 292680,\n",
       " 'Venezuela': 28870195,\n",
       " 'Vietnam': 95540395,\n",
       " 'Virgin Islands, British': 29802,\n",
       " 'Virgin Islands, U.S.': 106977,\n",
       " 'Wales': 3139000,\n",
       " 'Wallis and Futuna': 15289,\n",
       " 'Western Sahara': 652271,\n",
       " 'Yemen': 28498687,\n",
       " 'Zambia': 17351822,\n",
       " 'Zimbabwe': 14439018}"
      ]
     },
     "execution_count": 19,
     "metadata": {},
     "output_type": "execute_result"
    }
   ],
   "source": [
    "population"
   ]
  },
  {
   "cell_type": "code",
   "execution_count": null,
   "metadata": {},
   "outputs": [],
   "source": []
  }
 ],
 "metadata": {
  "celltoolbar": "Slideshow",
  "kernelspec": {
   "display_name": "Python 3 (ipykernel)",
   "language": "python",
   "name": "python3"
  },
  "language_info": {
   "codemirror_mode": {
    "name": "ipython",
    "version": 3
   },
   "file_extension": ".py",
   "mimetype": "text/x-python",
   "name": "python",
   "nbconvert_exporter": "python",
   "pygments_lexer": "ipython3",
   "version": "3.9.12"
  },
  "livereveal": {
   "height": 1024,
   "start_slideshow_at": "selected",
   "theme": "simple",
   "transition": "cube",
   "width": 1280
  },
  "notebookname": "fetching web pages",
  "toc": {
   "base_numbering": 1,
   "nav_menu": {
    "height": "12px",
    "width": "252px"
   },
   "number_sections": true,
   "sideBar": true,
   "skip_h1_title": false,
   "title_cell": "Table of Contents",
   "title_sidebar": "Contents",
   "toc_cell": false,
   "toc_position": {},
   "toc_section_display": "block",
   "toc_window_display": false
  },
  "version": "1.0"
 },
 "nbformat": 4,
 "nbformat_minor": 2
}
