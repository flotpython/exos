{
 "cells": [
  {
   "cell_type": "markdown",
   "metadata": {
    "deletable": true,
    "editable": true,
    "run_control": {
     "frozen": false,
     "read_only": false
    }
   },
   "source": [
    "<div class=\"licence\">\n",
    "<span>Licence CC BY-NC-ND</span>\n",
    "<span>Thierry Parmentelat &amp; Arnaud Legout</span>\n",
    "</div>"
   ]
  },
  {
   "cell_type": "markdown",
   "metadata": {
    "deletable": true,
    "editable": true,
    "run_control": {
     "frozen": false,
     "read_only": false
    }
   },
   "source": [
    "# agenda"
   ]
  },
  {
   "cell_type": "markdown",
   "metadata": {
    "deletable": true,
    "editable": true,
    "run_control": {
     "frozen": false,
     "read_only": false
    }
   },
   "source": [
    "Il s'agit d'écrire\n",
    "\n",
    "* un module `agenda.py`\n",
    "* qui implémente deux fonctions\n",
    "  * `trouver_entree`\n",
    "  * `nouvelle_entree`"
   ]
  },
  {
   "cell_type": "markdown",
   "metadata": {
    "deletable": true,
    "editable": true,
    "run_control": {
     "frozen": false,
     "read_only": false
    }
   },
   "source": [
    "* `trouver_entree(nom, prenom, champ=None)`\n",
    "\n",
    "        Cherche l'entrée attachée à (nom, prenom) dans l'agenda, et affiche\n",
    "        l'agenda complet de (nom, prenom) si champ est None\n",
    "        ou si le champ est passé à la fonction, seulement ce champ-là\n",
    "        fonction\n",
    "\n",
    "        Affiche par exemple pour trouver_entree('jean', 'dupond')\n",
    "        Agenda pour jean dupond\n",
    "          - adresse : 6 rue de la gare\n",
    "          - tel : 04040404040\n",
    "\n",
    "        Affiche par exemple pour trouver_entree('jean', 'dupond', 'tel')\n",
    "        tel pour jean dupond : 04040404040\n",
    "\n",
    "* `nouvelle_entree(nom, prenom, champ=None, valeur=None)`\n",
    "\n",
    "        Cree une entree dans un agenda avec comme clef le tuple (nom, prenom)\n",
    "        et comme valeur de dictionnaire {champ:valeur}\n",
    "\n",
    "        nom : le nom de la personne\n",
    "        prenom : le prenom de la personne\n",
    "        champ : le champ a entrer dans l'agenda (parmi la liste les champs_valides)\n",
    "        valeur : la valeur du champ"
   ]
  },
  {
   "cell_type": "markdown",
   "metadata": {
    "deletable": true,
    "editable": true,
    "run_control": {
     "frozen": false,
     "read_only": false
    }
   },
   "source": [
    "Que l'on peut utiliser comme ceci"
   ]
  },
  {
   "cell_type": "code",
   "execution_count": null,
   "metadata": {
    "deletable": true,
    "editable": true,
    "run_control": {
     "frozen": false,
     "read_only": false
    }
   },
   "outputs": [],
   "source": [
    "from agenda import nouvelle_entree, trouver_entree\n",
    "\n",
    "nouvelle_entree('jean', 'dupond')"
   ]
  },
  {
   "cell_type": "code",
   "execution_count": null,
   "metadata": {
    "deletable": true,
    "editable": true,
    "run_control": {
     "frozen": false,
     "read_only": false
    }
   },
   "outputs": [],
   "source": [
    "nouvelle_entree('jean', 'dupond', 'tel', '04040404040')\n",
    "nouvelle_entree('jean', 'dupond', 'adresse', '6 rue de la gare')"
   ]
  },
  {
   "cell_type": "code",
   "execution_count": null,
   "metadata": {
    "deletable": true,
    "editable": true,
    "run_control": {
     "frozen": false,
     "read_only": false
    }
   },
   "outputs": [],
   "source": [
    "nouvelle_entree('jean', 'francois', 'tel', '060606060')\n",
    "nouvelle_entree('jean', 'francois', 'fax', '060606061')"
   ]
  },
  {
   "cell_type": "code",
   "execution_count": null,
   "metadata": {
    "deletable": true,
    "editable": true,
    "run_control": {
     "frozen": false,
     "read_only": false
    }
   },
   "outputs": [],
   "source": [
    "nouvelle_entree('eric', 'dupont', 'mail', 'eric.dupont@google.com')"
   ]
  },
  {
   "cell_type": "code",
   "execution_count": null,
   "metadata": {
    "deletable": true,
    "editable": true,
    "run_control": {
     "frozen": false,
     "read_only": false
    }
   },
   "outputs": [],
   "source": [
    "trouver_entree('jean', 'dupond')\n",
    "trouver_entree('jean', 'dupond', 'tel')"
   ]
  },
  {
   "cell_type": "code",
   "execution_count": null,
   "metadata": {
    "deletable": true,
    "editable": true,
    "run_control": {
     "frozen": false,
     "read_only": false
    }
   },
   "outputs": [],
   "source": [
    "try:\n",
    "    trouver_entree('eric', 'françois')\n",
    "except KeyError as e:\n",
    "    print(\"OOPS pas trouvé\", e, type(e))"
   ]
  }
 ],
 "metadata": {
  "celltoolbar": "Slideshow",
  "kernelspec": {
   "display_name": "Python 3",
   "language": "python",
   "name": "python3"
  },
  "language_info": {
   "codemirror_mode": {
    "name": "ipython",
    "version": 3
   },
   "file_extension": ".py",
   "mimetype": "text/x-python",
   "name": "python",
   "nbconvert_exporter": "python",
   "pygments_lexer": "ipython3",
   "version": "3.9.12"
  },
  "livereveal": {
   "height": 1024,
   "start_slideshow_at": "selected",
   "theme": "simple",
   "transition": "cube",
   "width": 1280
  },
  "notebookname": "agenda",
  "toc": {
   "colors": {
    "hover_highlight": "#DAA520",
    "running_highlight": "#FF0000",
    "selected_highlight": "#FFD700"
   },
   "moveMenuLeft": true,
   "nav_menu": {
    "height": "48px",
    "width": "253px"
   },
   "navigate_menu": true,
   "number_sections": true,
   "sideBar": true,
   "threshold": "2",
   "toc_cell": false,
   "toc_section_display": "block",
   "toc_window_display": false,
   "widenNotebook": false
  },
  "version": "1.0"
 },
 "nbformat": 4,
 "nbformat_minor": 2
}
